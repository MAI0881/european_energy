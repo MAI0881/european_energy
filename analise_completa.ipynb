{
  "cells": [
    {
      "cell_type": "markdown",
      "metadata": {
        "colab_type": "text",
        "id": "view-in-github"
      },
      "source": [
        "<a href=\"https://colab.research.google.com/github/MAI0881/european_energy/blob/main/energy_european.ipynb\" target=\"_parent\"><img src=\"https://colab.research.google.com/assets/colab-badge.svg\" alt=\"Open In Colab\"/></a>"
      ]
    },
    {
      "cell_type": "markdown",
      "metadata": {
        "id": "looQI_LJqfTN"
      },
      "source": [
        "## **Importação de pacotes e dataframes**"
      ]
    },
    {
      "cell_type": "code",
      "execution_count": 20,
      "metadata": {
        "colab": {
          "base_uri": "https://localhost:8080/"
        },
        "id": "wUamYhT5_Lhx",
        "outputId": "ba93384a-7fa2-407e-c67d-d97978594bdc",
        "vscode": {
          "languageId": "r"
        }
      },
      "outputs": [
        {
          "name": "stderr",
          "output_type": "stream",
          "text": [
            "Installing package into ‘/usr/local/lib/R/site-library’\n",
            "(as ‘lib’ is unspecified)\n",
            "\n",
            "Installing package into ‘/usr/local/lib/R/site-library’\n",
            "(as ‘lib’ is unspecified)\n",
            "\n"
          ]
        }
      ],
      "source": [
        "install.packages(\"readr\")\n",
        "install.packages(\"tidytuesdayR\")"
      ]
    },
    {
      "cell_type": "code",
      "execution_count": 21,
      "metadata": {
        "id": "V1BoM0vr_iKT",
        "vscode": {
          "languageId": "r"
        }
      },
      "outputs": [],
      "source": [
        "library(readr)\n",
        "library(tidytuesdayR)\n",
        "library(dplyr)\n",
        "library(ggplot2)"
      ]
    },
    {
      "cell_type": "code",
      "execution_count": 70,
      "metadata": {
        "id": "lcKlWBrGAICc",
        "vscode": {
          "languageId": "r"
        }
      },
      "outputs": [],
      "source": [
        "energy_types <- read.csv('https://raw.githubusercontent.com/rfordatascience/tidytuesday/master/data/2020/2020-08-04/energy_types.csv')\n",
        "country_totals <- read.csv('https://raw.githubusercontent.com/rfordatascience/tidytuesday/master/data/2020/2020-08-04/country_totals.csv')"
      ]
    },
    {
      "cell_type": "markdown",
      "metadata": {
        "id": "JL-3fy6xqva-"
      },
      "source": [
        "## **Entendimento dos dados**"
      ]
    },
    {
      "cell_type": "code",
      "execution_count": null,
      "metadata": {
        "id": "Fo-PTz_wA6v3",
        "vscode": {
          "languageId": "r"
        }
      },
      "outputs": [],
      "source": [
        "summary(energy_types) #gerar um resumo estatístico dos data frames energy_types\n",
        "summary(country_totals) #gerar um resumo estatístico dos data frames country_totals"
      ]
    },
    {
      "cell_type": "code",
      "execution_count": null,
      "metadata": {
        "id": "xFl1a4phAILv",
        "vscode": {
          "languageId": "r"
        }
      },
      "outputs": [],
      "source": [
        "dim(energy_types) #retorna o número de linhas e colunas do df\n",
        "dim(country_totals) #retorna o número de linhas e colunas do df"
      ]
    },
    {
      "cell_type": "code",
      "execution_count": null,
      "metadata": {
        "id": "gBbR_cRDDkz5",
        "vscode": {
          "languageId": "r"
        }
      },
      "outputs": [],
      "source": [
        "str(energy_types) #imprimir a estrutura do df \n",
        "str(country_totals) #imprimir a estrutura do df "
      ]
    },
    {
      "cell_type": "code",
      "execution_count": null,
      "metadata": {
        "id": "QM9mdugEs3t-",
        "vscode": {
          "languageId": "r"
        }
      },
      "outputs": [],
      "source": [
        "#energy_types\n",
        "country_totals"
      ]
    },
    {
      "cell_type": "markdown",
      "metadata": {
        "id": "QFCpEDC-rP_9"
      },
      "source": [
        "## **Tranformação dos dados**"
      ]
    },
    {
      "cell_type": "code",
      "execution_count": 71,
      "metadata": {
        "id": "cDDPEQ5X9CQu",
        "vscode": {
          "languageId": "r"
        }
      },
      "outputs": [],
      "source": [
        "# Utiliza o operador %>% para aplicar a função \"mutate\" ao dataframe \"energy_types\".\n",
        "energy_types <- energy_types %>% #A nova coluna \"media_total\" é calculada usando a função \"rowMeans\" e selecionando as colunas \"X2016:X2018\" do dataframe \"energy_types\".\n",
        "mutate(media_total = rowMeans(select(energy_types, X2016:X2018))) ##A função \"rowMeans\" calcula a média de cada linha do dataframe \"energy_types\" para as colunas selecionadas (X2016:X2018) e armazena o resultado na nova coluna \"media_total\"."
      ]
    },
    {
      "cell_type": "code",
      "execution_count": 72,
      "metadata": {
        "id": "H94W9htV9fCk",
        "vscode": {
          "languageId": "r"
        }
      },
      "outputs": [],
      "source": [
        "# Utiliza o operador %>% para aplicar a função \"mutate\" ao dataframe \"country_totals\".\n",
        "country_totals <- country_totals %>% #A nova coluna \"media_total\" é calculada usando a função \"rowMeans\" e selecionando as colunas \"X2016:X2018\" do dataframe \"country_totals\".\n",
        "mutate(media_total = rowMeans(select(country_totals, X2016:X2018))) #A função \"rowMeans\" calcula a média de cada linha do dataframe \"country_totals\" para as colunas selecionadas (X2016:X2018) e armazena o resultado na nova coluna \"media_total\"."
      ]
    },
    {
      "cell_type": "code",
      "execution_count": 73,
      "metadata": {
        "colab": {
          "base_uri": "https://localhost:8080/",
          "height": 52
        },
        "id": "Q1Nqj3jNBagi",
        "outputId": "97c8f13f-5aea-44af-fd39-c1d3de73c2cb",
        "vscode": {
          "languageId": "r"
        }
      },
      "outputs": [
        {
          "data": {
            "text/html": [
              "<style>\n",
              ".dl-inline {width: auto; margin:0; padding: 0}\n",
              ".dl-inline>dt, .dl-inline>dd {float: none; width: auto; display: inline-block}\n",
              ".dl-inline>dt::after {content: \":\\0020\"; padding-right: .5ex}\n",
              ".dl-inline>dt:not(:first-of-type) {padding-left: .5ex}\n",
              "</style><dl class=dl-inline><dt>country</dt><dd>0</dd><dt>country_name</dt><dd>0</dd><dt>type</dt><dd>0</dd><dt>level</dt><dd>0</dd><dt>X2016</dt><dd>0</dd><dt>X2017</dt><dd>0</dd><dt>X2018</dt><dd>0</dd><dt>media_total</dt><dd>0</dd></dl>\n"
            ],
            "text/latex": [
              "\\begin{description*}\n",
              "\\item[country] 0\n",
              "\\item[country\\textbackslash{}\\_name] 0\n",
              "\\item[type] 0\n",
              "\\item[level] 0\n",
              "\\item[X2016] 0\n",
              "\\item[X2017] 0\n",
              "\\item[X2018] 0\n",
              "\\item[media\\textbackslash{}\\_total] 0\n",
              "\\end{description*}\n"
            ],
            "text/markdown": [
              "country\n",
              ":   0country_name\n",
              ":   0type\n",
              ":   0level\n",
              ":   0X2016\n",
              ":   0X2017\n",
              ":   0X2018\n",
              ":   0media_total\n",
              ":   0\n",
              "\n"
            ],
            "text/plain": [
              "     country country_name         type        level        X2016        X2017 \n",
              "           0            0            0            0            0            0 \n",
              "       X2018  media_total \n",
              "           0            0 "
            ]
          },
          "metadata": {},
          "output_type": "display_data"
        },
        {
          "data": {
            "text/html": [
              "<style>\n",
              ".dl-inline {width: auto; margin:0; padding: 0}\n",
              ".dl-inline>dt, .dl-inline>dd {float: none; width: auto; display: inline-block}\n",
              ".dl-inline>dt::after {content: \":\\0020\"; padding-right: .5ex}\n",
              ".dl-inline>dt:not(:first-of-type) {padding-left: .5ex}\n",
              "</style><dl class=dl-inline><dt>country</dt><dd>0</dd><dt>country_name</dt><dd>0</dd><dt>type</dt><dd>0</dd><dt>level</dt><dd>0</dd><dt>X2016</dt><dd>0</dd><dt>X2017</dt><dd>0</dd><dt>X2018</dt><dd>0</dd><dt>media_total</dt><dd>0</dd></dl>\n"
            ],
            "text/latex": [
              "\\begin{description*}\n",
              "\\item[country] 0\n",
              "\\item[country\\textbackslash{}\\_name] 0\n",
              "\\item[type] 0\n",
              "\\item[level] 0\n",
              "\\item[X2016] 0\n",
              "\\item[X2017] 0\n",
              "\\item[X2018] 0\n",
              "\\item[media\\textbackslash{}\\_total] 0\n",
              "\\end{description*}\n"
            ],
            "text/markdown": [
              "country\n",
              ":   0country_name\n",
              ":   0type\n",
              ":   0level\n",
              ":   0X2016\n",
              ":   0X2017\n",
              ":   0X2018\n",
              ":   0media_total\n",
              ":   0\n",
              "\n"
            ],
            "text/plain": [
              "     country country_name         type        level        X2016        X2017 \n",
              "           0            0            0            0            0            0 \n",
              "       X2018  media_total \n",
              "           0            0 "
            ]
          },
          "metadata": {},
          "output_type": "display_data"
        }
      ],
      "source": [
        "#Utiliza a função \"na.omit\" para remover todas as linhas do dataframe \"energy_types\" e do dataframe \"country_totals\" que contenham valores ausentes (NA).\n",
        "energy_types <- na.omit(energy_types) \n",
        "country_totals <- na.omit(country_totals)\n",
        "\n",
        "#Calcula o número de valores ausentes em cada coluna do dataframe \"energy_types\" e \"country_totals\" usando a função \"colSums\". Se a soma for maior que zero, significa que há valores ausentes na coluna. Caso contrário, a soma será igual a zero, indicando que não há valores ausentes na coluna após a remoção dos dados ausentes com a função \"na.omit\".\n",
        "colSums(is.na(energy_types))\n",
        "colSums(is.na(country_totals))"
      ]
    },
    {
      "cell_type": "code",
      "execution_count": 92,
      "metadata": {
        "id": "11qrWet1lV44",
        "vscode": {
          "languageId": "r"
        }
      },
      "outputs": [],
      "source": [
        "country_totals$dif_anos <- country_totals$X2018 - country_totals$X2016 #Cria uma nova coluna \"dif_anos\" no dataframe \"country_totals\" que contém a diferença entre os valores da coluna \"X2018\" e \"X2016\" para cada linha do dataframe \"country_totals\"."
      ]
    },
    {
      "cell_type": "code",
      "execution_count": 75,
      "metadata": {
        "id": "p_LvUCB1PVw3",
        "vscode": {
          "languageId": "r"
        }
      },
      "outputs": [],
      "source": [
        "energy_types$media_norm <- scale(energy_types$media_total) #Utiliza a função \"scale\" para padronizar a coluna \"media_total\" do dataframe \"energy_types\""
      ]
    },
    {
      "cell_type": "code",
      "execution_count": null,
      "metadata": {
        "id": "4euZ9JA1P8yh",
        "vscode": {
          "languageId": "r"
        }
      },
      "outputs": [],
      "source": [
        "energy_types"
      ]
    },
    {
      "cell_type": "markdown",
      "metadata": {
        "id": "oSBJ3bjqMExI"
      },
      "source": [
        "## **Distribuição da produção de energia**"
      ]
    },
    {
      "cell_type": "code",
      "execution_count": 111,
      "metadata": {
        "colab": {
          "base_uri": "https://localhost:8080/",
          "height": 437
        },
        "id": "4LX47esuxamL",
        "outputId": "2667b858-72aa-410c-e70a-0701065d7519",
        "vscode": {
          "languageId": "r"
        }
      },
      "outputs": [
        {
          "data": {
            "image/png": "[encoded data removed]",
            "text/plain": [
              "Plot with title “Media produção de energia”"
            ]
          },
          "metadata": {
            "image/png": {
              "height": 420,
              "width": 420
            }
          },
          "output_type": "display_data"
        }
      ],
      "source": [
        "# Criando um histograma da média da produção de energia\n",
        "hist(energy_types$media_total, \n",
        "     main = 'Media produção de energia',  # Adiciona um título ao gráfico\n",
        "     col = 'lightblue',  # Define a cor das barras do histograma\n",
        "     breaks = 8,  # Define o número de intervalos do histograma\n",
        "     xaxt = 'n'  # Remove o eixo x padrão para que possamos personalizá-lo depois\n",
        ")\n",
        "\n",
        "# Adicionando um eixo x personalizado ao gráfico\n",
        "axis(side = 1,  # Define a posição do eixo (1 = inferior)\n",
        "     at = seq(min(energy_types$media_total), max(energy_types$media_total), by = 100),  # Define os intervalos do eixo x\n",
        "     labels = seq(min(energy_types$media_total), max(energy_types$media_total), by = 100)  # Define os rótulos do eixo x\n",
        ")\n"
      ]
    },
    {
      "cell_type": "markdown",
      "metadata": {
        "id": "c2H29-bM4zS1"
      },
      "source": [
        "Observando que os valores de produção de energia estão concentrados em torno de `31.300 GWh` e a minoria está entre `228.600 GWh e 332.400 GWh`, isso pode indicar que existe uma `variação` significativa na produção de energia.\n",
        "\n",
        "A concentração dos valores em torno de 31.300 GWh sugere que há um padrão regular de produção de energia que é consistente entre os países. No entanto, a presença de valores extremos, como 228.600 GWh e 332.400 GWh, indica que há flutuações significativas na produção de energia que podem ser causadas por peculiaridades referentes ao países analisados. Alguns fatores podem ser: maior presença de recursos naturais em algumas regiões, maior tecnologia e infraestrutura, maior demanda de energia, políticas energéticas incluindo o incentivo a fontes renováveis de energia, clima e condições geográficas favoráveis  e disponibilidade de investimento em energia nesses países.\n",
        "\n"
      ]
    },
    {
      "cell_type": "markdown",
      "metadata": {
        "id": "WkCS7Nsrv2Oh"
      },
      "source": [
        "## **Análise quantitativa**"
      ]
    },
    {
      "cell_type": "code",
      "execution_count": null,
      "metadata": {
        "id": "Nze_8OSZ-9nD",
        "vscode": {
          "languageId": "r"
        }
      },
      "outputs": [],
      "source": [
        "# Cria um gráfico de barras horizontais para os países que têm dados de exportação de energia\n",
        "\n",
        "barplot(country_totals[country_totals$type %in% c('Exports'),]$media_total, # A condição country_totals$type %in% c('Exports') seleciona apenas os países que têm dados de exportação de energia\n",
        "        names.arg=country_totals[country_totals$type %in% c('Exports'),]$country_name, # names.arg é o vetor com o nome dos países que serão exibidos no eixo y do gráfico\n",
        "        col='blue', # col define a cor das barras \n",
        "        horiz= T, las=1, # horiz define a orientação horizontal das barras e las define a orientação dos rótulos no eixo y\n",
        "        main='Média de exportação de energia por país', # main é o título do gráfico\n",
        "        cex.names= 0.8) # cex.names define o tamanho do texto dos rótulos no eixo y\n",
        "\n",
        "# Cria um gráfico de pontos horizontais usando a função dotchart do R\n",
        "\n",
        "dotchart(country_totals[country_totals$type %in% c('Exports'),]$media_total, # A função usa a coluna media_total do dataframe country_totals, apenas para a categoria 'Exports'\n",
        "         label=country_totals[country_totals$type %in% c('Exports'),]$country_name, # A função usa a coluna country_name do dataframe country_totals, apenas para a categoria 'Exports'\n",
        "         col='blue', # Define a cor azul para os pontos\n",
        "         main='Média de exportação de energia por país', # Define o título do gráfico como 'Média de exportação de energia por país'\n",
        "         cex= 0.8) # Define o tamanho da fonte dos nomes dos países como 0.9\n"
      ]
    },
    {
      "cell_type": "markdown",
      "metadata": {
        "id": "cptwwvQU9TLr"
      },
      "source": [
        "Observando a média de `exportação` dos países, vemos que a Alemanha, França, Suécia, Noruega e República Checa são os maiores exportadores de energia e  Irlanda, Montenegro, Chipre, Georgia  e Albania são os menores exportadores.\n",
        "\n",
        "Isso indica que há uma grande `discrepância` entre os países em termos de exportação de energia. Os países listados como maiores exportadores de energia parecem ter uma capacidade significativamente maior de gerar energia do que os menores exportadores, o que pode ser devido a diversos fatores citados anteriormente\n",
        "Além disso, é possível que os maiores exportadores também tenham uma demanda menor de energia interna em relação à sua capacidade de geração, o que os permite exportar mais energia para outros países. Por outro lado, os menores exportadores podem ter uma demanda interna maior do que sua capacidade de geração, o que os leva a importar energia de outros países.\n",
        "\n",
        "Essas diferenças na capacidade de geração e na demanda interna de energia podem ter impactos significativos na `economia `e na `política` dos países, bem como na `segurança energética regional e global`."
      ]
    },
    {
      "cell_type": "code",
      "execution_count": null,
      "metadata": {
        "id": "OH3PXBr5DcRs",
        "vscode": {
          "languageId": "r"
        }
      },
      "outputs": [],
      "source": [
        "# Cria um gráfico de barras horizontais para os países que têm dados de importação de energia\n",
        "barplot(country_totals[country_totals$type %in% c('Imports'),]$media_total, # A condição country_totals$type %in% c('Imports') seleciona apenas os países que têm dados de importação de energia\n",
        "        names.arg=country_totals[country_totals$type %in% c('Imports'),]$country_name, # names.arg é o vetor com o nome dos países que serão exibidos no eixo y do gráfico\n",
        "        col='blue', # col define a cor das barras \n",
        "        horiz= T, las=1, # horiz define a orientação horizontal das barras e las define a orientação dos rótulos no eixo y\n",
        "        main='Média de importação de energia por país', # main é o título do gráfico\n",
        "        cex.names= 0.8) # cex.names define o tamanho do texto dos rótulos no eixo y\n",
        "\n",
        "# Cria um gráfico de pontos horizontais usando a função dotchart do R\n",
        "dotchart(country_totals[country_totals$type %in% c('Imports'),]$media_total, # A função usa a coluna media_total do dataframe country_totals, apenas para a categoria 'Imports'\n",
        "         label=country_totals[country_totals$type %in% c('Imports'),]$country_name, # A função usa a coluna country_name do dataframe country_totals, apenas para a categoria 'Imports'\n",
        "         col='blue', # Define a cor azul para os pontos\n",
        "         main='Média de importação de energia por país', # Define o título do gráfico como 'Média de importação de energia por país'\n",
        "         cex= 0.8) # Define o tamanho da fonte dos nomes dos países como 0.9"
      ]
    },
    {
      "cell_type": "markdown",
      "metadata": {
        "id": "deR0QtluDWSt"
      },
      "source": [
        "Observando a média de `importação` de energia percebemos que a Itália, Alemanha, Áustria, Holanda e Espanha possuem uma `demanda` maior por energia do que a produção interna desses países, e por isso precisam importar energia de outros países. Já Chipre, Ucrânia, Malta, Irlanda e Albânia têm uma demanda menor por energia, o que pode estar relacionado aos diversos fatores abordados na análise de` distribuição` dos dados.\n",
        "\n",
        "A `dependência` de importação de energia pode afetar negativamente a economia e a segurança energética de um país, além de deixá-lo vulnerável a choques geopolíticos. Por outro lado, a produção de energia local pode trazer benefícios econômicos, segurança energética e autonomia política."
      ]
    },
    {
      "cell_type": "code",
      "execution_count": 54,
      "metadata": {
        "colab": {
          "base_uri": "https://localhost:8080/",
          "height": 437
        },
        "id": "7hQ0AwmoIREz",
        "outputId": "70370045-98f8-4c59-fbbd-488407bcb7ed",
        "vscode": {
          "languageId": "r"
        }
      },
      "outputs": [
        {
          "data": {
            "image/png": "[encoded data removed]",
            "text/plain": [
              "plot without title"
            ]
          },
          "metadata": {
            "image/png": {
              "height": 420,
              "width": 420
            }
          },
          "output_type": "display_data"
        }
      ],
      "source": [
        "media <- aggregate(energy_types[, c(\"media_total\")], by = list(energy_types$type), FUN = mean) # Agrupando as colunas por tipo de energia e tirando a média\n",
        "\n",
        "colnames(media) <- c(\"tipos de energia\", \"media produção\") # Renomeando as colunas do objeto media\n",
        "\n",
        "# Criando um gráfico de barras com as médias de produção por tipo de energia\n",
        "barplot(\n",
        "  media$`media produção`, # Selecionando as médias de produção para cada tipo de energia\n",
        "  names.arg = media$`tipos de energia`, # Definindo os rótulos do eixo x\n",
        "  xlab = \"Tipos de energia\", # Definindo o rótulo do eixo x\n",
        "  ylab = \"Média de produção\", # Definindo o rótulo do eixo y\n",
        "  las = 2 # Rotacionando os rótulos do eixo x em 90 graus\n",
        ")"
      ]
    },
    {
      "cell_type": "markdown",
      "metadata": {
        "id": "H5QTaA_XGuYv"
      },
      "source": [
        "Observando o gráfico é possível notar que a produção de energia a partir de `fontes convencionais`, como carvão e gás natural, é a mais comum em comparação com outras fontes de energia. Além disso, a energia nuclear e hidrelétrica também são bastante utilizadas como fontes de energia. Por outro lado, a energia geotérmica, hidrelétrica bombeada e solar são fontes menos utilizadas para a produção de energia.\n",
        "\n",
        "O fato de fontes convencionais, energia nuclear e hidrelétrica serem os tipos de energia mais produzidos pode indicar que essas fontes são mais `acessíveis`, mais `baratas` ou mais `abundantes` nos países em questão. No entanto, a dependência excessiva de algumas fontes de energia pode trazer riscos de escassez em caso de eventos climáticos extremos, bem como gerar impactos ambientais negativos. \n",
        "Por outro lado, o investimento em fontes menos produzidas, como energia geotérmica, hidrelétrica bombeada e solar, pode trazer benefícios a longo prazo, como a diversificação da ` matriz energética` e a redução da emissão de gases de efeito estufa."
      ]
    },
    {
      "cell_type": "markdown",
      "metadata": {
        "id": "xx3PsO7jCktb"
      },
      "source": [
        "## **Análise de correlação**"
      ]
    },
    {
      "cell_type": "code",
      "execution_count": 90,
      "metadata": {
        "id": "vjmUgbJCPaBF",
        "vscode": {
          "languageId": "r"
        }
      },
      "outputs": [],
      "source": [
        "energ_renovavel <- subset(energy_types, type == \"Geothermal\" | type == \"Hydro\" | type == \"Solar\" | type == \"Hydro\" | type == \"Wind\", c('media_norm') ) #Cria um novo dataframe \"energ_renovavel\" com uma seleção das linhas do dataframe \"energy_types\" em que o valor da coluna \"type\" é igual a \"Geothermal\", \"Hydro\", \"Solar\", \n",
        "names(energ_renovavel)[1] <- \"renovavel\" #Apenas a coluna \"media_norm\" é mantida no novo dataframe \"energ_renovavel\" e a primeira coluna do dataframe \"energ_renovavel\" é renomeada para \"renovavel\".\n",
        "energ_n_renovavel <- subset(energy_types, type == \"Conventional thermal\" | type == \"Nuclear\" | type == \"Pumped hydro power\" | type == \"Other\", c('media_norm') ) #Cria um novo dataframe \"energ_n_renovavel\" com uma seleção das linhas do dataframe \"energy_types\" em que o valor da coluna \"type\" é igual a \"Conventional thermal\", \"Nuclear\", \"Pumped hydro power\" ou \"Other\".\n",
        "names(energ_n_renovavel)[1] <- \"n_renovavel\" # Apenas a coluna \"media_norm\" é mantida no novo dataframe \"energ_n_renovavel\" e a primeira coluna do dataframe \"energ_n_renovavel\" é renomeada para \"n_renovavel\".\n",
        "\n",
        "df_concatenado <- cbind(energ_renovavel, energ_n_renovavel) #O novo dataframe \"energ_renovavel\" e o novo dataframe \"energ_n_renovavel\" são combinados em um único dataframe chamado \"df_concatenado\" utilizando a função \"cbind\", onde a primeira coluna é \"renovavel\" e a segunda coluna é \"n_renovavel\"."
      ]
    },
    {
      "cell_type": "code",
      "execution_count": 112,
      "metadata": {
        "id": "ol0OpCARjS0q",
        "vscode": {
          "languageId": "r"
        }
      },
      "outputs": [],
      "source": [
        "energ_renovavel <- subset(energy_types, type == \"Geothermal\" | type == \"Hydro\" | type == \"Solar\" | type == \"Hydro\" | type == \"Wind\", c('media_norm') ) #Cria um novo dataframe \"energ_renovavel\" com uma seleção das linhas do dataframe \"energy_types\" em que o valor da coluna \"type\" é igual a \"Geothermal\", \"Hydro\", \"Solar\", \n",
        "names(energ_renovavel)[1] <- \"renovavel\" #Apenas a coluna \"media_norm\" é mantida no novo dataframe \"energ_renovavel\" e a primeira coluna do dataframe \"energ_renovavel\" é renomeada para \"renovavel\".\n",
        "energ_n_renovavel <- subset(energy_types, type == \"Conventional thermal\" | type == \"Nuclear\" | type == \"Pumped hydro power\" | type == \"Other\", c('media_norm') ) #Cria um novo dataframe \"energ_n_renovavel\" com uma seleção das linhas do dataframe \"energy_types\" em que o valor da coluna \"type\" é igual a \"Conventional thermal\", \"Nuclear\", \"Pumped hydro power\" ou \"Other\".\n",
        "names(energ_n_renovavel)[1] <- \"n_renovavel\" # Apenas a coluna \"media_norm\" é mantida no novo dataframe \"energ_n_renovavel\" e a primeira coluna do dataframe \"energ_n_renovavel\" é renomeada para \"n_renovavel\".\n",
        "\n",
        "df_concatenado <- cbind(energ_renovavel, energ_n_renovavel) #O novo dataframe \"energ_renovavel\" e o novo dataframe \"energ_n_renovavel\" são combinados em um único dataframe chamado \"df_concatenado\" utilizando a função \"cbind\", onde a primeira coluna é \"renovavel\" e a segunda coluna é \"n_renovavel\"."
      ]
    },
    {
      "cell_type": "code",
      "execution_count": 114,
      "metadata": {
        "colab": {
          "base_uri": "https://localhost:8080/",
          "height": 1000
        },
        "id": "JI-_v3xaiqLd",
        "outputId": "47de4ae8-0ed4-4962-e34a-e277a8412dc3",
        "vscode": {
          "languageId": "r"
        }
      },
      "outputs": [
        {
          "data": {
            "text/html": [
              "<table class=\"dataframe\">\n",
              "<caption>A data.frame: 144 × 2</caption>\n",
              "<thead>\n",
              "\t<tr><th></th><th scope=col>renovavel</th><th scope=col>n_renovavel</th></tr>\n",
              "\t<tr><th></th><th scope=col>&lt;dbl[,1]&gt;</th><th scope=col>&lt;dbl[,1]&gt;</th></tr>\n",
              "</thead>\n",
              "<tbody>\n",
              "\t<tr><th scope=row>3</th><td>-0.27143240</td><td> 0.47310824</td></tr>\n",
              "\t<tr><th scope=row>5</th><td>-0.14605420</td><td> 0.61191613</td></tr>\n",
              "\t<tr><th scope=row>6</th><td>-0.22284111</td><td>-0.27895520</td></tr>\n",
              "\t<tr><th scope=row>7</th><td>-0.30589574</td><td>-0.29587325</td></tr>\n",
              "\t<tr><th scope=row>11</th><td>-0.19866240</td><td> 0.18852191</td></tr>\n",
              "\t<tr><th scope=row>13</th><td>-0.26991970</td><td> 0.07406958</td></tr>\n",
              "\t<tr><th scope=row>14</th><td>-0.27349862</td><td>-0.28721288</td></tr>\n",
              "\t<tr><th scope=row>15</th><td>-0.30589574</td><td>-0.30513580</td></tr>\n",
              "\t<tr><th scope=row>19</th><td>-0.23126829</td><td> 0.90405257</td></tr>\n",
              "\t<tr><th scope=row>21</th><td>-0.29177113</td><td> 0.35162336</td></tr>\n",
              "\t<tr><th scope=row>22</th><td>-0.25012411</td><td>-0.27732832</td></tr>\n",
              "\t<tr><th scope=row>23</th><td>-0.30589574</td><td>-0.30350044</td></tr>\n",
              "\t<tr><th scope=row>27</th><td>-0.30545547</td><td> 0.06366537</td></tr>\n",
              "\t<tr><th scope=row>29</th><td> 0.04464803</td><td>-0.30589574</td></tr>\n",
              "\t<tr><th scope=row>30</th><td>-0.28519618</td><td>-0.30589574</td></tr>\n",
              "\t<tr><th scope=row>31</th><td>-0.30589574</td><td>-0.30589536</td></tr>\n",
              "\t<tr><th scope=row>35</th><td> 0.29964157</td><td> 8.88207643</td></tr>\n",
              "\t<tr><th scope=row>37</th><td> 2.18067532</td><td> 1.59194640</td></tr>\n",
              "\t<tr><th scope=row>38</th><td> 0.73982889</td><td>-0.15352123</td></tr>\n",
              "\t<tr><th scope=row>39</th><td>-0.30177610</td><td>-0.27249262</td></tr>\n",
              "\t<tr><th scope=row>43</th><td>-0.30522611</td><td>-0.04844435</td></tr>\n",
              "\t<tr><th scope=row>45</th><td>-0.28929966</td><td>-0.30589574</td></tr>\n",
              "\t<tr><th scope=row>46</th><td>-0.30589574</td><td>-0.30589574</td></tr>\n",
              "\t<tr><th scope=row>47</th><td>-0.30589574</td><td>-0.30589574</td></tr>\n",
              "\t<tr><th scope=row>51</th><td>-0.28247061</td><td> 0.23759319</td></tr>\n",
              "\t<tr><th scope=row>53</th><td>-0.12037524</td><td>-0.30589574</td></tr>\n",
              "\t<tr><th scope=row>54</th><td>-0.30575233</td><td>-0.29976768</td></tr>\n",
              "\t<tr><th scope=row>55</th><td>-0.30589574</td><td>-0.30589574</td></tr>\n",
              "\t<tr><th scope=row>59</th><td>-0.17563637</td><td> 0.60225108</td></tr>\n",
              "\t<tr><th scope=row>61</th><td>-0.16230446</td><td>-0.30589574</td></tr>\n",
              "\t<tr><th scope=row>⋮</th><td>⋮</td><td>⋮</td></tr>\n",
              "\t<tr><th scope=row>238</th><td>-0.30589574</td><td>-0.30589574</td></tr>\n",
              "\t<tr><th scope=row>239</th><td>-0.30589574</td><td>-0.30589574</td></tr>\n",
              "\t<tr><th scope=row>243</th><td>-0.26589390</td><td>-0.21630700</td></tr>\n",
              "\t<tr><th scope=row>245</th><td>-0.30321300</td><td>-0.30589574</td></tr>\n",
              "\t<tr><th scope=row>246</th><td>-0.30530187</td><td>-0.30589574</td></tr>\n",
              "\t<tr><th scope=row>247</th><td>-0.30589574</td><td>-0.30589574</td></tr>\n",
              "\t<tr><th scope=row>251</th><td>-0.13486080</td><td>-0.30589574</td></tr>\n",
              "\t<tr><th scope=row>253</th><td>-0.30589574</td><td>-0.30589574</td></tr>\n",
              "\t<tr><th scope=row>254</th><td>-0.30588559</td><td>-0.30589574</td></tr>\n",
              "\t<tr><th scope=row>255</th><td>-0.30589574</td><td>-0.30589574</td></tr>\n",
              "\t<tr><th scope=row>259</th><td>-0.03067169</td><td> 0.31429500</td></tr>\n",
              "\t<tr><th scope=row>261</th><td>-0.30399444</td><td>-0.30589574</td></tr>\n",
              "\t<tr><th scope=row>262</th><td>-0.30557659</td><td>-0.28497347</td></tr>\n",
              "\t<tr><th scope=row>263</th><td>-0.30589574</td><td>-0.30589574</td></tr>\n",
              "\t<tr><th scope=row>267</th><td> 1.25297403</td><td> 4.50687078</td></tr>\n",
              "\t<tr><th scope=row>269</th><td> 0.14221163</td><td>-0.30589574</td></tr>\n",
              "\t<tr><th scope=row>270</th><td>-0.21043745</td><td>-0.30589574</td></tr>\n",
              "\t<tr><th scope=row>271</th><td>-0.17580172</td><td>-0.28733508</td></tr>\n",
              "\t<tr><th scope=row>275</th><td>-0.19548726</td><td>-0.08417076</td></tr>\n",
              "\t<tr><th scope=row>277</th><td>-0.30570662</td><td>-0.30589574</td></tr>\n",
              "\t<tr><th scope=row>278</th><td>-0.30551527</td><td>-0.30423013</td></tr>\n",
              "\t<tr><th scope=row>279</th><td>-0.30589574</td><td>-0.30589574</td></tr>\n",
              "\t<tr><th scope=row>283</th><td>-0.05430225</td><td> 1.21841386</td></tr>\n",
              "\t<tr><th scope=row>285</th><td>-0.27961037</td><td> 1.72855243</td></tr>\n",
              "\t<tr><th scope=row>286</th><td>-0.28927852</td><td>-0.27890777</td></tr>\n",
              "\t<tr><th scope=row>287</th><td>-0.30589574</td><td>-0.30484733</td></tr>\n",
              "\t<tr><th scope=row>291</th><td>-0.06690013</td><td>-0.25194346</td></tr>\n",
              "\t<tr><th scope=row>293</th><td>-0.30436603</td><td>-0.30589574</td></tr>\n",
              "\t<tr><th scope=row>294</th><td>-0.30589574</td><td>-0.30589574</td></tr>\n",
              "\t<tr><th scope=row>295</th><td>-0.30589574</td><td>-0.30589574</td></tr>\n",
              "</tbody>\n",
              "</table>\n"
            ],
            "text/latex": [
              "A data.frame: 144 × 2\n",
              "\\begin{tabular}{r|ll}\n",
              "  & renovavel & n\\_renovavel\\\\\n",
              "  & <dbl{[},1{]}> & <dbl{[},1{]}>\\\\\n",
              "\\hline\n",
              "\t3 & -0.27143240 &  0.47310824\\\\\n",
              "\t5 & -0.14605420 &  0.61191613\\\\\n",
              "\t6 & -0.22284111 & -0.27895520\\\\\n",
              "\t7 & -0.30589574 & -0.29587325\\\\\n",
              "\t11 & -0.19866240 &  0.18852191\\\\\n",
              "\t13 & -0.26991970 &  0.07406958\\\\\n",
              "\t14 & -0.27349862 & -0.28721288\\\\\n",
              "\t15 & -0.30589574 & -0.30513580\\\\\n",
              "\t19 & -0.23126829 &  0.90405257\\\\\n",
              "\t21 & -0.29177113 &  0.35162336\\\\\n",
              "\t22 & -0.25012411 & -0.27732832\\\\\n",
              "\t23 & -0.30589574 & -0.30350044\\\\\n",
              "\t27 & -0.30545547 &  0.06366537\\\\\n",
              "\t29 &  0.04464803 & -0.30589574\\\\\n",
              "\t30 & -0.28519618 & -0.30589574\\\\\n",
              "\t31 & -0.30589574 & -0.30589536\\\\\n",
              "\t35 &  0.29964157 &  8.88207643\\\\\n",
              "\t37 &  2.18067532 &  1.59194640\\\\\n",
              "\t38 &  0.73982889 & -0.15352123\\\\\n",
              "\t39 & -0.30177610 & -0.27249262\\\\\n",
              "\t43 & -0.30522611 & -0.04844435\\\\\n",
              "\t45 & -0.28929966 & -0.30589574\\\\\n",
              "\t46 & -0.30589574 & -0.30589574\\\\\n",
              "\t47 & -0.30589574 & -0.30589574\\\\\n",
              "\t51 & -0.28247061 &  0.23759319\\\\\n",
              "\t53 & -0.12037524 & -0.30589574\\\\\n",
              "\t54 & -0.30575233 & -0.29976768\\\\\n",
              "\t55 & -0.30589574 & -0.30589574\\\\\n",
              "\t59 & -0.17563637 &  0.60225108\\\\\n",
              "\t61 & -0.16230446 & -0.30589574\\\\\n",
              "\t⋮ & ⋮ & ⋮\\\\\n",
              "\t238 & -0.30589574 & -0.30589574\\\\\n",
              "\t239 & -0.30589574 & -0.30589574\\\\\n",
              "\t243 & -0.26589390 & -0.21630700\\\\\n",
              "\t245 & -0.30321300 & -0.30589574\\\\\n",
              "\t246 & -0.30530187 & -0.30589574\\\\\n",
              "\t247 & -0.30589574 & -0.30589574\\\\\n",
              "\t251 & -0.13486080 & -0.30589574\\\\\n",
              "\t253 & -0.30589574 & -0.30589574\\\\\n",
              "\t254 & -0.30588559 & -0.30589574\\\\\n",
              "\t255 & -0.30589574 & -0.30589574\\\\\n",
              "\t259 & -0.03067169 &  0.31429500\\\\\n",
              "\t261 & -0.30399444 & -0.30589574\\\\\n",
              "\t262 & -0.30557659 & -0.28497347\\\\\n",
              "\t263 & -0.30589574 & -0.30589574\\\\\n",
              "\t267 &  1.25297403 &  4.50687078\\\\\n",
              "\t269 &  0.14221163 & -0.30589574\\\\\n",
              "\t270 & -0.21043745 & -0.30589574\\\\\n",
              "\t271 & -0.17580172 & -0.28733508\\\\\n",
              "\t275 & -0.19548726 & -0.08417076\\\\\n",
              "\t277 & -0.30570662 & -0.30589574\\\\\n",
              "\t278 & -0.30551527 & -0.30423013\\\\\n",
              "\t279 & -0.30589574 & -0.30589574\\\\\n",
              "\t283 & -0.05430225 &  1.21841386\\\\\n",
              "\t285 & -0.27961037 &  1.72855243\\\\\n",
              "\t286 & -0.28927852 & -0.27890777\\\\\n",
              "\t287 & -0.30589574 & -0.30484733\\\\\n",
              "\t291 & -0.06690013 & -0.25194346\\\\\n",
              "\t293 & -0.30436603 & -0.30589574\\\\\n",
              "\t294 & -0.30589574 & -0.30589574\\\\\n",
              "\t295 & -0.30589574 & -0.30589574\\\\\n",
              "\\end{tabular}\n"
            ],
            "text/markdown": [
              "\n",
              "A data.frame: 144 × 2\n",
              "\n",
              "| <!--/--> | renovavel &lt;dbl[,1]&gt; | n_renovavel &lt;dbl[,1]&gt; |\n",
              "|---|---|---|\n",
              "| 3 | -0.27143240 |  0.47310824 |\n",
              "| 5 | -0.14605420 |  0.61191613 |\n",
              "| 6 | -0.22284111 | -0.27895520 |\n",
              "| 7 | -0.30589574 | -0.29587325 |\n",
              "| 11 | -0.19866240 |  0.18852191 |\n",
              "| 13 | -0.26991970 |  0.07406958 |\n",
              "| 14 | -0.27349862 | -0.28721288 |\n",
              "| 15 | -0.30589574 | -0.30513580 |\n",
              "| 19 | -0.23126829 |  0.90405257 |\n",
              "| 21 | -0.29177113 |  0.35162336 |\n",
              "| 22 | -0.25012411 | -0.27732832 |\n",
              "| 23 | -0.30589574 | -0.30350044 |\n",
              "| 27 | -0.30545547 |  0.06366537 |\n",
              "| 29 |  0.04464803 | -0.30589574 |\n",
              "| 30 | -0.28519618 | -0.30589574 |\n",
              "| 31 | -0.30589574 | -0.30589536 |\n",
              "| 35 |  0.29964157 |  8.88207643 |\n",
              "| 37 |  2.18067532 |  1.59194640 |\n",
              "| 38 |  0.73982889 | -0.15352123 |\n",
              "| 39 | -0.30177610 | -0.27249262 |\n",
              "| 43 | -0.30522611 | -0.04844435 |\n",
              "| 45 | -0.28929966 | -0.30589574 |\n",
              "| 46 | -0.30589574 | -0.30589574 |\n",
              "| 47 | -0.30589574 | -0.30589574 |\n",
              "| 51 | -0.28247061 |  0.23759319 |\n",
              "| 53 | -0.12037524 | -0.30589574 |\n",
              "| 54 | -0.30575233 | -0.29976768 |\n",
              "| 55 | -0.30589574 | -0.30589574 |\n",
              "| 59 | -0.17563637 |  0.60225108 |\n",
              "| 61 | -0.16230446 | -0.30589574 |\n",
              "| ⋮ | ⋮ | ⋮ |\n",
              "| 238 | -0.30589574 | -0.30589574 |\n",
              "| 239 | -0.30589574 | -0.30589574 |\n",
              "| 243 | -0.26589390 | -0.21630700 |\n",
              "| 245 | -0.30321300 | -0.30589574 |\n",
              "| 246 | -0.30530187 | -0.30589574 |\n",
              "| 247 | -0.30589574 | -0.30589574 |\n",
              "| 251 | -0.13486080 | -0.30589574 |\n",
              "| 253 | -0.30589574 | -0.30589574 |\n",
              "| 254 | -0.30588559 | -0.30589574 |\n",
              "| 255 | -0.30589574 | -0.30589574 |\n",
              "| 259 | -0.03067169 |  0.31429500 |\n",
              "| 261 | -0.30399444 | -0.30589574 |\n",
              "| 262 | -0.30557659 | -0.28497347 |\n",
              "| 263 | -0.30589574 | -0.30589574 |\n",
              "| 267 |  1.25297403 |  4.50687078 |\n",
              "| 269 |  0.14221163 | -0.30589574 |\n",
              "| 270 | -0.21043745 | -0.30589574 |\n",
              "| 271 | -0.17580172 | -0.28733508 |\n",
              "| 275 | -0.19548726 | -0.08417076 |\n",
              "| 277 | -0.30570662 | -0.30589574 |\n",
              "| 278 | -0.30551527 | -0.30423013 |\n",
              "| 279 | -0.30589574 | -0.30589574 |\n",
              "| 283 | -0.05430225 |  1.21841386 |\n",
              "| 285 | -0.27961037 |  1.72855243 |\n",
              "| 286 | -0.28927852 | -0.27890777 |\n",
              "| 287 | -0.30589574 | -0.30484733 |\n",
              "| 291 | -0.06690013 | -0.25194346 |\n",
              "| 293 | -0.30436603 | -0.30589574 |\n",
              "| 294 | -0.30589574 | -0.30589574 |\n",
              "| 295 | -0.30589574 | -0.30589574 |\n",
              "\n"
            ],
            "text/plain": [
              "    renovavel   n_renovavel\n",
              "3   -0.27143240  0.47310824\n",
              "5   -0.14605420  0.61191613\n",
              "6   -0.22284111 -0.27895520\n",
              "7   -0.30589574 -0.29587325\n",
              "11  -0.19866240  0.18852191\n",
              "13  -0.26991970  0.07406958\n",
              "14  -0.27349862 -0.28721288\n",
              "15  -0.30589574 -0.30513580\n",
              "19  -0.23126829  0.90405257\n",
              "21  -0.29177113  0.35162336\n",
              "22  -0.25012411 -0.27732832\n",
              "23  -0.30589574 -0.30350044\n",
              "27  -0.30545547  0.06366537\n",
              "29   0.04464803 -0.30589574\n",
              "30  -0.28519618 -0.30589574\n",
              "31  -0.30589574 -0.30589536\n",
              "35   0.29964157  8.88207643\n",
              "37   2.18067532  1.59194640\n",
              "38   0.73982889 -0.15352123\n",
              "39  -0.30177610 -0.27249262\n",
              "43  -0.30522611 -0.04844435\n",
              "45  -0.28929966 -0.30589574\n",
              "46  -0.30589574 -0.30589574\n",
              "47  -0.30589574 -0.30589574\n",
              "51  -0.28247061  0.23759319\n",
              "53  -0.12037524 -0.30589574\n",
              "54  -0.30575233 -0.29976768\n",
              "55  -0.30589574 -0.30589574\n",
              "59  -0.17563637  0.60225108\n",
              "61  -0.16230446 -0.30589574\n",
              "⋮   ⋮           ⋮          \n",
              "238 -0.30589574 -0.30589574\n",
              "239 -0.30589574 -0.30589574\n",
              "243 -0.26589390 -0.21630700\n",
              "245 -0.30321300 -0.30589574\n",
              "246 -0.30530187 -0.30589574\n",
              "247 -0.30589574 -0.30589574\n",
              "251 -0.13486080 -0.30589574\n",
              "253 -0.30589574 -0.30589574\n",
              "254 -0.30588559 -0.30589574\n",
              "255 -0.30589574 -0.30589574\n",
              "259 -0.03067169  0.31429500\n",
              "261 -0.30399444 -0.30589574\n",
              "262 -0.30557659 -0.28497347\n",
              "263 -0.30589574 -0.30589574\n",
              "267  1.25297403  4.50687078\n",
              "269  0.14221163 -0.30589574\n",
              "270 -0.21043745 -0.30589574\n",
              "271 -0.17580172 -0.28733508\n",
              "275 -0.19548726 -0.08417076\n",
              "277 -0.30570662 -0.30589574\n",
              "278 -0.30551527 -0.30423013\n",
              "279 -0.30589574 -0.30589574\n",
              "283 -0.05430225  1.21841386\n",
              "285 -0.27961037  1.72855243\n",
              "286 -0.28927852 -0.27890777\n",
              "287 -0.30589574 -0.30484733\n",
              "291 -0.06690013 -0.25194346\n",
              "293 -0.30436603 -0.30589574\n",
              "294 -0.30589574 -0.30589574\n",
              "295 -0.30589574 -0.30589574"
            ]
          },
          "metadata": {},
          "output_type": "display_data"
        }
      ],
      "source": [
        "df_concatenado"
      ]
    },
    {
      "cell_type": "code",
      "execution_count": 110,
      "metadata": {
        "colab": {
          "base_uri": "https://localhost:8080/",
          "height": 83
        },
        "id": "j4W8IKEXCrRP",
        "outputId": "32499c8e-cba3-4df7-fa87-b384963b8a9e",
        "vscode": {
          "languageId": "r"
        }
      },
      "outputs": [
        {
          "data": {
            "text/html": [
              "<table class=\"dataframe\">\n",
              "<caption>A matrix: 1 × 1 of type dbl</caption>\n",
              "<tbody>\n",
              "\t<tr><td>0.3308666</td></tr>\n",
              "</tbody>\n",
              "</table>\n"
            ],
            "text/latex": [
              "A matrix: 1 × 1 of type dbl\n",
              "\\begin{tabular}{l}\n",
              "\t 0.3308666\\\\\n",
              "\\end{tabular}\n"
            ],
            "text/markdown": [
              "\n",
              "A matrix: 1 × 1 of type dbl\n",
              "\n",
              "| 0.3308666 |\n",
              "\n"
            ],
            "text/plain": [
              "     [,1]     \n",
              "[1,] 0.3308666"
            ]
          },
          "metadata": {},
          "output_type": "display_data"
        }
      ],
      "source": [
        "#Utiliza a função \"cor\" para calcular a correlação entre duas colunas do dataframe \"df_concatenado\", a coluna \"renovavel\" e a coluna \"n_renovavel\".\n",
        "cor(df_concatenado$renovavel, df_concatenado$n_renovavel)"
      ]
    },
    {
      "cell_type": "markdown",
      "metadata": {
        "id": "nnzlMyRlUVAw"
      },
      "source": [
        "Na tentativa de investigar se existe correlação entre o aumento na produção de energia renovável e redução na produção de energia não renovável vimos que a correlação de 0.3308666 indica que há uma correlação `positiva fraca` entre os dois tipoes de produção, ou seja, à medida que a produção de energia renovável aumenta, a produção de energia não renovável também tende a aumentar, mas a relação não é muito forte. \n",
        "Isso indica que a produção de energia renovável e não renovável pode ser influenciada por diversos fatores, assim, é possível que um país aumente a produção de energia renovável sem necessariamente reduzir (e até aumentar) a produção de energia não renovável, ou vice-versa."
      ]
    },
    {
      "cell_type": "markdown",
      "metadata": {
        "id": "mNNshQ66Iuub"
      },
      "source": [
        "\n",
        "\n",
        "## **Análise do atributo derivado**\n",
        "\n"
      ]
    },
    {
      "cell_type": "code",
      "execution_count": null,
      "metadata": {
        "id": "yksVchhVhWVw",
        "vscode": {
          "languageId": "r"
        }
      },
      "outputs": [],
      "source": [
        "absorbed <- subset(country_totals, type == \"Energy absorbed by pumping\", c('country_name','dif_anos') ) # um subconjunto da tabela country_totals é criado com apenas as linhas que contêm o tipo \"Energy absorbed by pumping\" na coluna \"type\" e apenas as colunas \"country_name\" e \"dif_anos\".\n",
        "\n",
        "increased <- subset(absorbed, dif_anos > 0 , c('country_name','dif_anos') ) #um novo subconjunto da tabela absorbed é criado com apenas as linhas que têm um valor positivo na coluna \"dif_anos\", ou seja, os países onde a absorção de energia por bombeamento aumentou nos últimos anos. \n",
        "increased <- increased[order(increased$dif_anos), ] #linhas ordenadas de acordo com o valor crescente de \"dif_anos\" \n",
        "colnames(increased) <- c(\"regrediram \", \"aumento_na_absorção\") #colunas renomeadas para \"regrediram\" e \"aumento_na_absorção\".\n",
        "\n",
        "\n",
        "decreased <- subset(absorbed, dif_anos < 0, c('country_name','dif_anos') ) # subconjunto da tabela absorbed é criado com apenas as linhas que têm um valor negativo na coluna \"dif_anos\", ou seja, os países onde a absorção de energia por bombeamento diminuiu nos últimos anos.\n",
        "decreased <- decreased[order(decreased$dif_anos), ] #linhas ordenadas de acordo com o valor crescente de \"dif_anos\" \n",
        "colnames(decreased) <- c(\"progrediram\", \"redução_na_absorção\") #colunas são renomeadas para \"progrediram\" e \"redução_na_absorção\"."
      ]
    },
    {
      "cell_type": "code",
      "execution_count": 96,
      "metadata": {
        "colab": {
          "base_uri": "https://localhost:8080/",
          "height": 931
        },
        "id": "T-kDug-KzTX8",
        "outputId": "7170c4e2-37c9-4d0a-da2d-a95fb275b492",
        "vscode": {
          "languageId": "r"
        }
      },
      "outputs": [
        {
          "data": {
            "text/html": [
              "<table class=\"dataframe\">\n",
              "<caption>A data.frame: 8 × 2</caption>\n",
              "<thead>\n",
              "\t<tr><th></th><th scope=col>regrediram </th><th scope=col>aumento_na_absorção</th></tr>\n",
              "\t<tr><th></th><th scope=col>&lt;chr&gt;</th><th scope=col>&lt;dbl&gt;</th></tr>\n",
              "</thead>\n",
              "<tbody>\n",
              "\t<tr><th scope=row>164</th><td>Serbia              </td><td> 38.938</td></tr>\n",
              "\t<tr><th scope=row>109</th><td>Portugal            </td><td> 45.000</td></tr>\n",
              "\t<tr><th scope=row>174</th><td>Bosnia &amp; Herzegovina</td><td> 50.591</td></tr>\n",
              "\t<tr><th scope=row>124</th><td>Slovakia            </td><td> 67.000</td></tr>\n",
              "\t<tr><th scope=row>184</th><td>Georgia             </td><td>214.946</td></tr>\n",
              "\t<tr><th scope=row>49</th><td>France              </td><td>607.732</td></tr>\n",
              "\t<tr><th scope=row>24</th><td>Germany             </td><td>850.706</td></tr>\n",
              "\t<tr><th scope=row>99</th><td>Austria             </td><td>862.554</td></tr>\n",
              "</tbody>\n",
              "</table>\n"
            ],
            "text/latex": [
              "A data.frame: 8 × 2\n",
              "\\begin{tabular}{r|ll}\n",
              "  & regrediram  & aumento\\_na\\_absorção\\\\\n",
              "  & <chr> & <dbl>\\\\\n",
              "\\hline\n",
              "\t164 & Serbia               &  38.938\\\\\n",
              "\t109 & Portugal             &  45.000\\\\\n",
              "\t174 & Bosnia \\& Herzegovina &  50.591\\\\\n",
              "\t124 & Slovakia             &  67.000\\\\\n",
              "\t184 & Georgia              & 214.946\\\\\n",
              "\t49 & France               & 607.732\\\\\n",
              "\t24 & Germany              & 850.706\\\\\n",
              "\t99 & Austria              & 862.554\\\\\n",
              "\\end{tabular}\n"
            ],
            "text/markdown": [
              "\n",
              "A data.frame: 8 × 2\n",
              "\n",
              "| <!--/--> | regrediram  &lt;chr&gt; | aumento_na_absorção &lt;dbl&gt; |\n",
              "|---|---|---|\n",
              "| 164 | Serbia               |  38.938 |\n",
              "| 109 | Portugal             |  45.000 |\n",
              "| 174 | Bosnia &amp; Herzegovina |  50.591 |\n",
              "| 124 | Slovakia             |  67.000 |\n",
              "| 184 | Georgia              | 214.946 |\n",
              "| 49 | France               | 607.732 |\n",
              "| 24 | Germany              | 850.706 |\n",
              "| 99 | Austria              | 862.554 |\n",
              "\n"
            ],
            "text/plain": [
              "    regrediram           aumento_na_absorção\n",
              "164 Serbia                38.938            \n",
              "109 Portugal              45.000            \n",
              "174 Bosnia & Herzegovina  50.591            \n",
              "124 Slovakia              67.000            \n",
              "184 Georgia              214.946            \n",
              "49  France               607.732            \n",
              "24  Germany              850.706            \n",
              "99  Austria              862.554            "
            ]
          },
          "metadata": {},
          "output_type": "display_data"
        },
        {
          "data": {
            "text/html": [
              "<table class=\"dataframe\">\n",
              "<caption>A data.frame: 16 × 2</caption>\n",
              "<thead>\n",
              "\t<tr><th></th><th scope=col>progrediram</th><th scope=col>redução_na_absorção</th></tr>\n",
              "\t<tr><th></th><th scope=col>&lt;chr&gt;</th><th scope=col>&lt;dbl&gt;</th></tr>\n",
              "</thead>\n",
              "<tbody>\n",
              "\t<tr><th scope=row>179</th><td>Ukraine   </td><td>-1633.000</td></tr>\n",
              "\t<tr><th scope=row>44</th><td>Spain     </td><td>-1621.364</td></tr>\n",
              "\t<tr><th scope=row>114</th><td>Romania   </td><td> -660.000</td></tr>\n",
              "\t<tr><th scope=row>9</th><td>Bulgaria  </td><td> -493.000</td></tr>\n",
              "\t<tr><th scope=row>144</th><td>Norway    </td><td> -405.508</td></tr>\n",
              "\t<tr><th scope=row>59</th><td>Italy     </td><td> -235.000</td></tr>\n",
              "\t<tr><th scope=row>79</th><td>Luxembourg</td><td> -225.014</td></tr>\n",
              "\t<tr><th scope=row>14</th><td>Czechia   </td><td> -197.116</td></tr>\n",
              "\t<tr><th scope=row>54</th><td>Croatia   </td><td> -175.448</td></tr>\n",
              "\t<tr><th scope=row>4</th><td>Belgium   </td><td> -127.099</td></tr>\n",
              "\t<tr><th scope=row>119</th><td>Slovenia  </td><td> -120.565</td></tr>\n",
              "\t<tr><th scope=row>134</th><td>Sweden    </td><td> -113.699</td></tr>\n",
              "\t<tr><th scope=row>104</th><td>Poland    </td><td>  -83.401</td></tr>\n",
              "\t<tr><th scope=row>74</th><td>Lithuania </td><td>  -63.680</td></tr>\n",
              "\t<tr><th scope=row>34</th><td>Ireland   </td><td>  -33.076</td></tr>\n",
              "\t<tr><th scope=row>39</th><td>Greece    </td><td>   -3.510</td></tr>\n",
              "</tbody>\n",
              "</table>\n"
            ],
            "text/latex": [
              "A data.frame: 16 × 2\n",
              "\\begin{tabular}{r|ll}\n",
              "  & progrediram & redução\\_na\\_absorção\\\\\n",
              "  & <chr> & <dbl>\\\\\n",
              "\\hline\n",
              "\t179 & Ukraine    & -1633.000\\\\\n",
              "\t44 & Spain      & -1621.364\\\\\n",
              "\t114 & Romania    &  -660.000\\\\\n",
              "\t9 & Bulgaria   &  -493.000\\\\\n",
              "\t144 & Norway     &  -405.508\\\\\n",
              "\t59 & Italy      &  -235.000\\\\\n",
              "\t79 & Luxembourg &  -225.014\\\\\n",
              "\t14 & Czechia    &  -197.116\\\\\n",
              "\t54 & Croatia    &  -175.448\\\\\n",
              "\t4 & Belgium    &  -127.099\\\\\n",
              "\t119 & Slovenia   &  -120.565\\\\\n",
              "\t134 & Sweden     &  -113.699\\\\\n",
              "\t104 & Poland     &   -83.401\\\\\n",
              "\t74 & Lithuania  &   -63.680\\\\\n",
              "\t34 & Ireland    &   -33.076\\\\\n",
              "\t39 & Greece     &    -3.510\\\\\n",
              "\\end{tabular}\n"
            ],
            "text/markdown": [
              "\n",
              "A data.frame: 16 × 2\n",
              "\n",
              "| <!--/--> | progrediram &lt;chr&gt; | redução_na_absorção &lt;dbl&gt; |\n",
              "|---|---|---|\n",
              "| 179 | Ukraine    | -1633.000 |\n",
              "| 44 | Spain      | -1621.364 |\n",
              "| 114 | Romania    |  -660.000 |\n",
              "| 9 | Bulgaria   |  -493.000 |\n",
              "| 144 | Norway     |  -405.508 |\n",
              "| 59 | Italy      |  -235.000 |\n",
              "| 79 | Luxembourg |  -225.014 |\n",
              "| 14 | Czechia    |  -197.116 |\n",
              "| 54 | Croatia    |  -175.448 |\n",
              "| 4 | Belgium    |  -127.099 |\n",
              "| 119 | Slovenia   |  -120.565 |\n",
              "| 134 | Sweden     |  -113.699 |\n",
              "| 104 | Poland     |   -83.401 |\n",
              "| 74 | Lithuania  |   -63.680 |\n",
              "| 34 | Ireland    |   -33.076 |\n",
              "| 39 | Greece     |    -3.510 |\n",
              "\n"
            ],
            "text/plain": [
              "    progrediram redução_na_absorção\n",
              "179 Ukraine     -1633.000          \n",
              "44  Spain       -1621.364          \n",
              "114 Romania      -660.000          \n",
              "9   Bulgaria     -493.000          \n",
              "144 Norway       -405.508          \n",
              "59  Italy        -235.000          \n",
              "79  Luxembourg   -225.014          \n",
              "14  Czechia      -197.116          \n",
              "54  Croatia      -175.448          \n",
              "4   Belgium      -127.099          \n",
              "119 Slovenia     -120.565          \n",
              "134 Sweden       -113.699          \n",
              "104 Poland        -83.401          \n",
              "74  Lithuania     -63.680          \n",
              "34  Ireland       -33.076          \n",
              "39  Greece         -3.510          "
            ]
          },
          "metadata": {},
          "output_type": "display_data"
        }
      ],
      "source": [
        "increased\n",
        "decreased"
      ]
    },
    {
      "cell_type": "markdown",
      "metadata": {
        "id": "pvGlyt0PgzIf"
      },
      "source": [
        "A redução da energia absorvida pelo bombeamento pode trazer vários benefícios para os países em termos de produção e economia de energia assim como seu aumento acaba comprometendo o melhor aproveitamente dos recursos para a produção de energia.\n",
        "Algumas das vantagens dos países que conseguem reduzir esse indicar é `redução de custos` (quando a energia absorvida pelo bombeamento é reduzida, os custos associados ao bombeamento de líquidos também são reduzidos.), maior `eficiência energética` (significa que menos energia é necessária para realizar o mesmo trabalho) e `menor dependência de combustíveis fósseis` (quando os países reduzem a energia absorvida pelo bombeamento, eles podem reduzir sua dependência de combustíveis fósseis, como o petróleo. Isso pode ser especialmente importante para os países que não têm fontes de energia abundantes e precisam importar combustíveis fósseis para atender às suas necessidades energéticas)."
      ]
    },
    {
      "cell_type": "markdown",
      "metadata": {
        "id": "aNEj0zU_hYe7"
      },
      "source": [
        "## **Análise de evolução**"
      ]
    },
    {
      "cell_type": "code",
      "execution_count": 94,
      "metadata": {
        "colab": {
          "base_uri": "https://localhost:8080/",
          "height": 192
        },
        "id": "4-Ni6MM9iSX-",
        "outputId": "b31faa6b-3364-4227-e27d-b24604e220e8",
        "vscode": {
          "languageId": "r"
        }
      },
      "outputs": [
        {
          "data": {
            "text/html": [
              "<table class=\"dataframe\">\n",
              "<caption>A data.frame: 3 × 3</caption>\n",
              "<thead>\n",
              "\t<tr><th scope=col>ano</th><th scope=col>media_energ_renovav</th><th scope=col>media_energ_n_renovav</th></tr>\n",
              "\t<tr><th scope=col>&lt;dbl&gt;</th><th scope=col>&lt;dbl&gt;</th><th scope=col>&lt;dbl&gt;</th></tr>\n",
              "</thead>\n",
              "<tbody>\n",
              "\t<tr><td>2016</td><td>7057.940</td><td>16946.59</td></tr>\n",
              "\t<tr><td>2017</td><td>6994.889</td><td>17278.35</td></tr>\n",
              "\t<tr><td>2018</td><td>7495.126</td><td>16586.70</td></tr>\n",
              "</tbody>\n",
              "</table>\n"
            ],
            "text/latex": [
              "A data.frame: 3 × 3\n",
              "\\begin{tabular}{lll}\n",
              " ano & media\\_energ\\_renovav & media\\_energ\\_n\\_renovav\\\\\n",
              " <dbl> & <dbl> & <dbl>\\\\\n",
              "\\hline\n",
              "\t 2016 & 7057.940 & 16946.59\\\\\n",
              "\t 2017 & 6994.889 & 17278.35\\\\\n",
              "\t 2018 & 7495.126 & 16586.70\\\\\n",
              "\\end{tabular}\n"
            ],
            "text/markdown": [
              "\n",
              "A data.frame: 3 × 3\n",
              "\n",
              "| ano &lt;dbl&gt; | media_energ_renovav &lt;dbl&gt; | media_energ_n_renovav &lt;dbl&gt; |\n",
              "|---|---|---|\n",
              "| 2016 | 7057.940 | 16946.59 |\n",
              "| 2017 | 6994.889 | 17278.35 |\n",
              "| 2018 | 7495.126 | 16586.70 |\n",
              "\n"
            ],
            "text/plain": [
              "  ano  media_energ_renovav media_energ_n_renovav\n",
              "1 2016 7057.940            16946.59             \n",
              "2 2017 6994.889            17278.35             \n",
              "3 2018 7495.126            16586.70             "
            ]
          },
          "metadata": {},
          "output_type": "display_data"
        }
      ],
      "source": [
        "#Utiliza a função \"subset\" para criar dois novos dataframes: \"energ_renovavel\" e \"energ_n_renovavel\", a partir do dataframe \"energy_types\". O primeiro é criado selecionando as linhas cujo tipo de energia é \"Geothermal\", \"Hydro\", \"Solar\", ou \"Wind\", e as colunas correspondentes aos anos de 2016, 2017 e 2018.\n",
        "energ_renovavel <- subset(energy_types, type == \"Geothermal\" | type == \"Hydro\" | type == \"Solar\" | type == \"Hydro\" | type == \"Wind\", c('X2016','X2017','X2018') )\n",
        "#O segundo dataframe é criado selecionando as linhas cujo tipo de energia é \"Conventional thermal\", \"Nuclear\", \"Pumped hydro power\", ou \"Other\", e as mesmas colunas de anos.\n",
        "energ_n_renovavel <- subset(energy_types, type == \"Conventional thermal\" | type == \"Nuclear\" | type == \"Pumped hydro power\" | type == \"Other\", c('X2016','X2017','X2018') )\n",
        "#Cria um novo dataframe \"media_energ_renovav\", que contém duas colunas: \"ano\" (que armazena os anos 2016, 2017 e 2018) e \"media\" (que armazena as médias dos valores de energia renovável para cada ano, calculados a partir do dataframe \"energ_renovavel\").\n",
        "media_energ_renovav <- data.frame(ano = c(2016, 2017, 2018),\n",
        "media = c(mean(energ_renovavel$X2016), mean(energ_renovavel$X2017), mean(energ_renovavel$X2018)))\n",
        "#Cria um novo dataframe \"media_energ\", que contém três colunas: \"ano\" (que armazena os anos 2016, 2017 e 2018), \"media_energ_renovav\" (que armazena as médias dos valores de energia renovável para cada ano, obtidas a partir do dataframe \"media_energ_renovav\"), \n",
        "media_energ <- data.frame(ano = c(2016, 2017, 2018), media_energ_renovav = media_energ_renovav$media,\n",
        "#e \"media_energ_n_renovav\" (que armazena as médias dos valores de energia não renovável para cada ano, calculados a partir do dataframe \"energ_n_renovavel\"). Note que o valor de \"media_energ_renovav\" é obtido do dataframe criado anteriormente.\n",
        "media_energ_n_renovav = c(mean(energ_n_renovavel$X2016), mean(energ_n_renovavel$X2017), mean(energ_n_renovavel$X2018)))\n",
        "media_energ"
      ]
    },
    {
      "cell_type": "code",
      "execution_count": 95,
      "metadata": {
        "colab": {
          "base_uri": "https://localhost:8080/",
          "height": 437
        },
        "id": "Q9T5Cy-ZJAwz",
        "outputId": "4d2d4421-8ed9-4040-c046-f1342b95d17d",
        "vscode": {
          "languageId": "r"
        }
      },
      "outputs": [
        {
          "data": {
            "image/png": "[encoded data removed]",
            "text/plain": [
              "Plot with title “Aumento energia renovável”"
            ]
          },
          "metadata": {
            "image/png": {
              "height": 420,
              "width": 420
            }
          },
          "output_type": "display_data"
        }
      ],
      "source": [
        "plot(media_energ_renovav$ano, media_energ_renovav$media, #plot() é uma função para plotar gráficos em R. media_energ_renovav$ano e media_energ_renovav$media são as variáveis a serem plotadas no gráfico.\n",
        "type = 'l', #define o tipo de gráfico como uma linha.\n",
        " main= 'Aumento energia renovável', #define o título do gráfico como 'titulo'.\n",
        " col='green' #define a cor da linha como verde.\n",
        " )"
      ]
    },
    {
      "cell_type": "markdown",
      "metadata": {
        "id": "qrkcRJ1ufaHi"
      },
      "source": [
        "\n",
        "Esses valores representam a quantidade total de energia renovável produzida nos anos de 2016, 2017 e 2018, respectivamente. O gráfico indica uma tendência a `aumentar` a produção de energia renovável ao longo do tempo. Podemos observar que em 2017 a produção reduziu mas voltou a aumentar no ano seguinte. É necessário uma análise contínua e levando em consideração um tempo maior para definir o impacto e confirmar a hipótese de aumento na tendência."
      ]
    }
  ],
  "metadata": {
    "colab": {
      "authorship_tag": "ABX9TyO4UnMIfYVj9NIQY4YCZZM9",
      "include_colab_link": true,
      "provenance": []
    },
    "kernelspec": {
      "display_name": "R",
      "name": "ir"
    },
    "language_info": {
      "name": "R"
    }
  },
  "nbformat": 4,
  "nbformat_minor": 0
}
